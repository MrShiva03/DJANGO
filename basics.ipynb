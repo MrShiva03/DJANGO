{
 "cells": [
  {
   "cell_type": "code",
   "execution_count": 1,
   "metadata": {},
   "outputs": [
    {
     "name": "stdout",
     "output_type": "stream",
     "text": [
      "The sum of a and b is 30\n"
     ]
    }
   ],
   "source": [
    "def kuchbhi():\n",
    "    a = 10\n",
    "    b = 20\n",
    "    c = a + b\n",
    "    print(f'The sum of a and b is {c}')\n",
    "kuchbhi() "
   ]
  },
  {
   "cell_type": "code",
   "execution_count": 2,
   "metadata": {},
   "outputs": [],
   "source": [
    "name = \"shiva mishra\"\n",
    "city = \"amethi\"\n"
   ]
  },
  {
   "cell_type": "code",
   "execution_count": 4,
   "metadata": {},
   "outputs": [
    {
     "name": "stdout",
     "output_type": "stream",
     "text": [
      "30\n",
      "-10\n",
      "200\n",
      "100000000000000000000\n",
      "0.5\n",
      "0\n",
      "10\n"
     ]
    }
   ],
   "source": [
    "a = 10\n",
    "b = 20\n",
    "print(a + b)\n",
    "print(a - b)\n",
    "print(a * b)\n",
    "print(a ** b)\n",
    "print(a / b)\n",
    "print(a // b)\n",
    "print(a % b)\n"
   ]
  },
  {
   "cell_type": "code",
   "execution_count": 6,
   "metadata": {},
   "outputs": [
    {
     "name": "stdout",
     "output_type": "stream",
     "text": [
      "True\n",
      "False\n",
      "True\n",
      "True\n"
     ]
    }
   ],
   "source": [
    "x = 15\n",
    "print(x>10 and x<20)\n",
    "print(x<10 and x>20)\n",
    "print(x<10 or x<20)\n",
    "print(not a > b)"
   ]
  },
  {
   "cell_type": "code",
   "execution_count": 7,
   "metadata": {},
   "outputs": [
    {
     "name": "stdout",
     "output_type": "stream",
     "text": [
      "['mango', 'banana', 'apple']\n",
      "True\n",
      "True\n",
      "True\n",
      "False\n"
     ]
    }
   ],
   "source": [
    "fruits=[\"mango\", \"banana\",\"apple\"]\n",
    "print(fruits)\n",
    "print('apple' in fruits)\n",
    "print('mango' in fruits)\n",
    "print('banana' in fruits)\n",
    "print('grapes' in fruits)"
   ]
  },
  {
   "cell_type": "code",
   "execution_count": 1,
   "metadata": {},
   "outputs": [
    {
     "name": "stdout",
     "output_type": "stream",
     "text": [
      "a is greater then 15\n"
     ]
    }
   ],
   "source": [
    " #example in python language\n",
    "\n",
    "a = 10\n",
    "if a>5:\n",
    "    print(\"a is greater then 15\")\n",
    "else:\n",
    "    print(\"a is less then 15\")\n",
    "    "
   ]
  },
  {
   "cell_type": "code",
   "execution_count": 3,
   "metadata": {},
   "outputs": [
    {
     "name": "stdout",
     "output_type": "stream",
     "text": [
      "C is greatest\n"
     ]
    }
   ],
   "source": [
    "# if-else ladder\n",
    "a, b, c = 10, 20, 30\n",
    "if a > b and a > c:\n",
    "    print(\"A is the graetest\")\n",
    "elif b > a and b>c:\n",
    "    print(\"B is greatest\")\n",
    "else:\n",
    "    print(\"C is greatest\")"
   ]
  },
  {
   "cell_type": "code",
   "execution_count": 4,
   "metadata": {},
   "outputs": [
    {
     "name": "stdout",
     "output_type": "stream",
     "text": [
      "😎1\n",
      "😎2\n",
      "😎3\n",
      "😎4\n",
      "😎5\n"
     ]
    }
   ],
   "source": [
    "numbers = [1, 2, 3, 4, 5]\n",
    "for n in numbers:\n",
    "    print(f\"😎{n}\")"
   ]
  },
  {
   "cell_type": "code",
   "execution_count": 5,
   "metadata": {},
   "outputs": [
    {
     "name": "stdout",
     "output_type": "stream",
     "text": [
      "mango\n",
      "apple\n",
      "banana\n",
      "orange\n",
      "grapes\n",
      "pine apple\n"
     ]
    }
   ],
   "source": [
    "fruits = ['mango', 'apple', 'banana', '', 'orange', '', 'grapes', 'pine apple']\n",
    "for fruit in fruits:\n",
    "    if len(fruit) == 0:\n",
    "        continue\n",
    "    print(fruit)"
   ]
  },
  {
   "cell_type": "code",
   "execution_count": 8,
   "metadata": {},
   "outputs": [
    {
     "name": "stdout",
     "output_type": "stream",
     "text": [
      "61\n"
     ]
    }
   ],
   "source": [
    "# while loop syntex\n",
    "number = 7432647227287\n",
    "total = 0\n",
    "while number > 0:\n",
    "    total += number % 10\n",
    "    number //= 10\n",
    "print(total)\n"
   ]
  },
  {
   "cell_type": "markdown",
   "metadata": {},
   "source": [
    "## function\n"
   ]
  },
  {
   "cell_type": "code",
   "execution_count": 9,
   "metadata": {},
   "outputs": [
    {
     "name": "stdout",
     "output_type": "stream",
     "text": [
      "mango\n",
      "apple\n",
      "banana\n",
      "orange\n",
      "grapes\n",
      "pine apple\n"
     ]
    }
   ],
   "source": [
    "fruits = ['mango', 'apple', 'banana', '', 'orange', '', 'grapes', 'pine apple']\n",
    "for fruit in fruits:\n",
    "    if len(fruit) == 0:\n",
    "        continue\n",
    "    print(fruit)"
   ]
  },
  {
   "cell_type": "code",
   "execution_count": 13,
   "metadata": {},
   "outputs": [],
   "source": [
    "fruits.append('')"
   ]
  },
  {
   "cell_type": "code",
   "execution_count": 14,
   "metadata": {},
   "outputs": [
    {
     "name": "stdout",
     "output_type": "stream",
     "text": [
      "['mango', 'apple', 'banana', '', 'orange', '', 'grapes', 'pine apple', 'grapes', 'grapes', 'watermillon']\n"
     ]
    }
   ],
   "source": [
    "print(fruits)"
   ]
  },
  {
   "cell_type": "code",
   "execution_count": 13,
   "metadata": {},
   "outputs": [
    {
     "name": "stdout",
     "output_type": "stream",
     "text": [
      "orange\n",
      "['mango', 'apple', 'banana', '', 'orange', '', 'grapes', 'pine apple', 'grapes', 'grapes', 'watermillon', 12, 23, 'guava']\n",
      "['mango', 'apple', 'papaya', 'orange', '', 'grapes', 'pine apple', 'grapes', 'grapes', 'watermillon', 12, 23, 'guava']\n"
     ]
    }
   ],
   "source": [
    "fruits1 = ['mango', 'apple', 'banana', '', 'orange', '', 'grapes', 'pine apple', 'grapes', 'grapes', 'watermillon',12,23]\n",
    "print(fruits1[4])\n",
    "fruits1.append(\"guava\")\n",
    "print(fruits1)\n",
    "fruits1.remove(\"banana\")\n",
    "fruits1[2]=\"papaya\"\n",
    "print(fruits1)"
   ]
  },
  {
   "cell_type": "code",
   "execution_count": 15,
   "metadata": {},
   "outputs": [
    {
     "name": "stdout",
     "output_type": "stream",
     "text": [
      "a\n",
      "e\n",
      "i\n",
      "o\n",
      "u\n"
     ]
    }
   ],
   "source": [
    "vowel=['a','e','i','u']\n",
    "vowel.insert(3,'o')\n",
    "for vowe in vowel:\n",
    "    print(vowe)"
   ]
  },
  {
   "cell_type": "markdown",
   "metadata": {},
   "source": [
    "## list"
   ]
  },
  {
   "cell_type": "code",
   "execution_count": 2,
   "metadata": {},
   "outputs": [
    {
     "name": "stdout",
     "output_type": "stream",
     "text": [
      "{'brand': 'suzuki', 'model': 'swift', 'color': 'yellow'}\n",
      "swift\n"
     ]
    }
   ],
   "source": [
    "cars = {\n",
    "    \"brand\":\"suzuki\",\n",
    "    \"model\":\"swift\",\n",
    "    \"years\":2098,\n",
    "    \"color\":\"blue\",\n",
    "}\n",
    "cars[\"color\"]=\"yellow\"\n",
    "del cars['years']\n",
    "print(cars)\n",
    "print(cars.get(\"model\"))\n",
    "\n",
    "\n"
   ]
  },
  {
   "cell_type": "markdown",
   "metadata": {},
   "source": [
    "# tuople"
   ]
  },
  {
   "cell_type": "code",
   "execution_count": 1,
   "metadata": {},
   "outputs": [
    {
     "name": "stdout",
     "output_type": "stream",
     "text": [
      "<class 'str'>\n",
      "apple\n"
     ]
    }
   ],
   "source": [
    "touple = (\"apple\")\n",
    "print(type(touple))\n",
    "print(touple)"
   ]
  },
  {
   "cell_type": "markdown",
   "metadata": {},
   "source": [
    "# dictionary"
   ]
  },
  {
   "cell_type": "code",
   "execution_count": 1,
   "metadata": {},
   "outputs": [],
   "source": [
    "product1 = {\n",
    "    'brand' : 'apple',\n",
    "    'name' : 'Iphone',\n",
    "    'price': 150000,\n",
    "    \n",
    "}"
   ]
  },
  {
   "cell_type": "code",
   "execution_count": 2,
   "metadata": {},
   "outputs": [
    {
     "name": "stdout",
     "output_type": "stream",
     "text": [
      "apple\n",
      "Iphone\n"
     ]
    }
   ],
   "source": [
    "print(product1['brand'])\n",
    "print(product1['name'])\n"
   ]
  },
  {
   "cell_type": "code",
   "execution_count": 5,
   "metadata": {},
   "outputs": [
    {
     "name": "stdout",
     "output_type": "stream",
     "text": [
      "None\n",
      "not found\n",
      "150000\n"
     ]
    }
   ],
   "source": [
    "# print(product1['ram])\n",
    "print(product1.get('ram'))\n",
    "print(product1.get('ram', 'not found'))\n",
    "print(product1.get('price', 'not found'))"
   ]
  },
  {
   "cell_type": "code",
   "execution_count": 7,
   "metadata": {},
   "outputs": [
    {
     "ename": "NameError",
     "evalue": "name 'k' is not defined",
     "output_type": "error",
     "traceback": [
      "\u001b[1;31m---------------------------------------------------------------------------\u001b[0m",
      "\u001b[1;31mNameError\u001b[0m                                 Traceback (most recent call last)",
      "Cell \u001b[1;32mIn[7], line 8\u001b[0m\n\u001b[0;32m      1\u001b[0m kharche \u001b[38;5;241m=\u001b[39m {\n\u001b[0;32m      2\u001b[0m     \u001b[38;5;124m'\u001b[39m\u001b[38;5;124msabji\u001b[39m\u001b[38;5;124m'\u001b[39m: \u001b[38;5;241m250\u001b[39m,\n\u001b[0;32m      3\u001b[0m     \u001b[38;5;124m'\u001b[39m\u001b[38;5;124mdawai\u001b[39m\u001b[38;5;124m'\u001b[39m: \u001b[38;5;241m9354\u001b[39m,\n\u001b[0;32m      4\u001b[0m     \u001b[38;5;124m'\u001b[39m\u001b[38;5;124mphal\u001b[39m\u001b[38;5;124m'\u001b[39m: \u001b[38;5;241m98923\u001b[39m,\n\u001b[0;32m      5\u001b[0m     \u001b[38;5;124m'\u001b[39m\u001b[38;5;124mphone ka bill\u001b[39m\u001b[38;5;124m'\u001b[39m:\u001b[38;5;241m25746\u001b[39m,\n\u001b[0;32m      6\u001b[0m }\n\u001b[0;32m      7\u001b[0m \u001b[38;5;28;01mfor\u001b[39;00m K,V \u001b[38;5;129;01min\u001b[39;00m kharche\u001b[38;5;241m.\u001b[39mitems():\n\u001b[1;32m----> 8\u001b[0m     \u001b[38;5;28mprint\u001b[39m(\u001b[38;5;124mf\u001b[39m\u001b[38;5;124m\"\u001b[39m\u001b[38;5;132;01m{\u001b[39;00mk\u001b[38;5;132;01m}\u001b[39;00m\u001b[38;5;124mka kharche \u001b[39m\u001b[38;5;132;01m{\u001b[39;00mv\u001b[38;5;132;01m}\u001b[39;00m\u001b[38;5;124m rupey\u001b[39m\u001b[38;5;124m\"\u001b[39m)\n",
      "\u001b[1;31mNameError\u001b[0m: name 'k' is not defined"
     ]
    }
   ],
   "source": [
    "kharche = {\n",
    "    'sabji': 250,\n",
    "    'dawai': 9354,\n",
    "    'phal': 98923,\n",
    "    'phone ka bill':25746,\n",
    "}\n",
    "for K,V in kharche.items():\n",
    "    print(f\"{k}ka kharche {v} rupey\")"
   ]
  },
  {
   "cell_type": "code",
   "execution_count": 9,
   "metadata": {},
   "outputs": [
    {
     "name": "stdout",
     "output_type": "stream",
     "text": [
      "5.0\n",
      "15.811388300841896\n",
      "10.816653826391969\n"
     ]
    }
   ],
   "source": [
    "import math\n",
    "p,b = 3,4\n",
    "h = math.sqrt(p**2 + b**2)\n",
    "print(h)\n",
    "import math\n",
    "p,b = 5,15\n",
    "h = math.sqrt(p**2 + b**2)\n",
    "print(h)\n",
    "import math\n",
    "p,b = 6,9\n",
    "h = math.sqrt(p**2 + b**2)\n",
    "print(h)"
   ]
  },
  {
   "cell_type": "code",
   "execution_count": 10,
   "metadata": {},
   "outputs": [],
   "source": [
    "def hyp(p,b):\n",
    "    ans = math.sqrt(p**2 + b**2)\n",
    "    return ans"
   ]
  },
  {
   "cell_type": "code",
   "execution_count": 12,
   "metadata": {},
   "outputs": [
    {
     "name": "stdout",
     "output_type": "stream",
     "text": [
      "5.0\n",
      "58.008620049092706\n",
      "55.21775076911409\n"
     ]
    }
   ],
   "source": [
    "print(hyp(3,4))\n",
    "print(hyp(34,47))\n",
    "print(hyp(32,45))"
   ]
  },
  {
   "cell_type": "markdown",
   "metadata": {},
   "source": [
    "# function\n"
   ]
  },
  {
   "cell_type": "code",
   "execution_count": 1,
   "metadata": {},
   "outputs": [],
   "source": [
    "def abbr_generator(data):\n",
    "    words = data.split(',')\n",
    "    abbreviations = []\n",
    "    for word in words:\n",
    "        clean_word = word.strip()\n",
    "        abbr = ''\n",
    "        for item in clean_word.split():\n",
    "            abbr += item[0].upper()\n",
    "        abbreviations.append(abbr)\n",
    "    return abbreviations"
   ]
  },
  {
   "cell_type": "code",
   "execution_count": 23,
   "metadata": {},
   "outputs": [
    {
     "data": {
      "text/plain": [
       "['SM', 'AC', 'TY', 'SM', 'RSJ']"
      ]
     },
     "execution_count": 23,
     "metadata": {},
     "output_type": "execute_result"
    }
   ],
   "source": [
    "abbr_generator('shiva mishra, ayushi chaudhary, tanul yadav, sana makbool, rohit shetty jii')"
   ]
  },
  {
   "cell_type": "code",
   "execution_count": 1,
   "metadata": {},
   "outputs": [],
   "source": [
    "def word_count(sentence):\n",
    "    words = sentence.split()\n",
    "    size = len(words)\n",
    "    return size"
   ]
  },
  {
   "cell_type": "code",
   "execution_count": 2,
   "metadata": {},
   "outputs": [
    {
     "data": {
      "text/plain": [
       "5"
      ]
     },
     "execution_count": 2,
     "metadata": {},
     "output_type": "execute_result"
    }
   ],
   "source": [
    "word_count(\"I want to beat you\")"
   ]
  },
  {
   "cell_type": "markdown",
   "metadata": {},
   "source": [
    "# CLASS and OBJECT"
   ]
  },
  {
   "cell_type": "code",
   "execution_count": 16,
   "metadata": {},
   "outputs": [],
   "source": [
    "class Student:\n",
    "  name = \"\"\n",
    "  rollno = \"\"\n",
    "  klass = \"\"\n",
    "  def show(self):\n",
    "    print(self.name)\n",
    "    print(self.klass)\n",
    "    print(self.rollno)"
   ]
  },
  {
   "cell_type": "markdown",
   "metadata": {},
   "source": [
    "### object creation"
   ]
  },
  {
   "cell_type": "code",
   "execution_count": 17,
   "metadata": {},
   "outputs": [],
   "source": [
    "s1 = Student()\n",
    "s1.name = \"rahul\"\n",
    "s1.rollno = '006'\n",
    "s1.klass = '6th'"
   ]
  },
  {
   "cell_type": "code",
   "execution_count": 18,
   "metadata": {},
   "outputs": [
    {
     "name": "stdout",
     "output_type": "stream",
     "text": [
      "rahul\n",
      "6th\n",
      "006\n"
     ]
    }
   ],
   "source": [
    "s1.show()"
   ]
  },
  {
   "cell_type": "code",
   "execution_count": 19,
   "metadata": {},
   "outputs": [],
   "source": [
    "class Bus:\n",
    "    def __init__(self, number, driver, type, manufacturer):\n",
    "        self.number = number\n",
    "        self.driver = driver\n",
    "        self.bus_type = type\n",
    "        self.manufacturer = manufacturer\n",
    "\n",
    "    def info(self):\n",
    "        print(f\"Bus number: {self.number}\")\n",
    "        print(f\"Bus Driver: {self.driver}\")\n",
    "        print(f\"Bus Type: {self.bus_type}\")\n",
    "        print(f\"Bus manufacturer: {self.manufacturer}\")\n"
   ]
  },
  {
   "cell_type": "code",
   "execution_count": 21,
   "metadata": {},
   "outputs": [
    {
     "name": "stdout",
     "output_type": "stream",
     "text": [
      "Bus number: up37BB72323\n",
      "Bus Driver: prakash\n",
      "Bus Type: non AC\n",
      "Bus manufacturer: tata\n",
      "Bus number: up34fB72323\n",
      "Bus Driver: ayushu\n",
      "Bus Type: AC\n",
      "Bus manufacturer: volvo\n"
     ]
    }
   ],
   "source": [
    "b1 = Bus(\"up37BB72323\", \"prakash\", \"non AC\",\"tata\")\n",
    "b2 = Bus(\"up34fB72323\", \"ayushu\", \"AC\",\"volvo\")\n",
    "b1.info()\n",
    "b2.info()"
   ]
  },
  {
   "cell_type": "code",
   "execution_count": 22,
   "metadata": {},
   "outputs": [],
   "source": [
    "class Person:\n",
    "    def __init__(self, name, gender):\n",
    "        self.name = name\n",
    "        self.gender = gender\n",
    "    def show(self):\n",
    "        print(f'{self.name} and {self.gender}')\n",
    "        "
   ]
  },
  {
   "cell_type": "code",
   "execution_count": 24,
   "metadata": {},
   "outputs": [],
   "source": [
    "class Engineer(Person):\n",
    "    def __init__(self, name, gender, type):\n",
    "        super().__init__(name, gender)\n",
    "        self.type = type\n"
   ]
  },
  {
   "cell_type": "code",
   "execution_count": 26,
   "metadata": {},
   "outputs": [
    {
     "name": "stdout",
     "output_type": "stream",
     "text": [
      "RAj and male\n",
      "arti and Female\n"
     ]
    }
   ],
   "source": [
    "e1 = Engineer('RAj', 'male', 'civil')\n",
    "e1.show()\n",
    "p1 = Person(\"arti\", \"Female\")\n",
    "p1.show()"
   ]
  },
  {
   "cell_type": "code",
   "execution_count": null,
   "metadata": {},
   "outputs": [],
   "source": []
  }
 ],
 "metadata": {
  "kernelspec": {
   "display_name": "base",
   "language": "python",
   "name": "python3"
  },
  "language_info": {
   "codemirror_mode": {
    "name": "ipython",
    "version": 3
   },
   "file_extension": ".py",
   "mimetype": "text/x-python",
   "name": "python",
   "nbconvert_exporter": "python",
   "pygments_lexer": "ipython3",
   "version": "3.12.4"
  }
 },
 "nbformat": 4,
 "nbformat_minor": 2
}
